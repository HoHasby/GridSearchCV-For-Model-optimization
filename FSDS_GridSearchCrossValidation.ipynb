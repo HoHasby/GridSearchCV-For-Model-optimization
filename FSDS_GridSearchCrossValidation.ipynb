{
 "cells": [
  {
   "cell_type": "markdown",
   "metadata": {
    "id": "RtGX3OkdD8g-"
   },
   "source": [
    "# **GridSearchCV** For Model optimization"
   ]
  },
  {
   "cell_type": "code",
   "execution_count": 1,
   "metadata": {
    "id": "h0RjYOukD8hA"
   },
   "outputs": [],
   "source": [
    "import pandas as pd\n",
    "from sklearn.model_selection import train_test_split, cross_val_score"
   ]
  },
  {
   "cell_type": "code",
   "execution_count": 2,
   "metadata": {
    "colab": {
     "base_uri": "https://localhost:8080/",
     "height": 424
    },
    "id": "X3DdRw2bqU86",
    "outputId": "60566e03-c8d6-45dc-b9d4-37b152dcfbbd"
   },
   "outputs": [
    {
     "data": {
      "text/html": [
       "<div>\n",
       "<style scoped>\n",
       "    .dataframe tbody tr th:only-of-type {\n",
       "        vertical-align: middle;\n",
       "    }\n",
       "\n",
       "    .dataframe tbody tr th {\n",
       "        vertical-align: top;\n",
       "    }\n",
       "\n",
       "    .dataframe thead th {\n",
       "        text-align: right;\n",
       "    }\n",
       "</style>\n",
       "<table border=\"1\" class=\"dataframe\">\n",
       "  <thead>\n",
       "    <tr style=\"text-align: right;\">\n",
       "      <th></th>\n",
       "      <th>Preg</th>\n",
       "      <th>Plas</th>\n",
       "      <th>Pres</th>\n",
       "      <th>skin</th>\n",
       "      <th>test</th>\n",
       "      <th>mass</th>\n",
       "      <th>pedi</th>\n",
       "      <th>age</th>\n",
       "      <th>class</th>\n",
       "    </tr>\n",
       "  </thead>\n",
       "  <tbody>\n",
       "    <tr>\n",
       "      <th>0</th>\n",
       "      <td>6</td>\n",
       "      <td>148</td>\n",
       "      <td>72</td>\n",
       "      <td>35</td>\n",
       "      <td>0</td>\n",
       "      <td>33.6</td>\n",
       "      <td>0.627</td>\n",
       "      <td>50</td>\n",
       "      <td>1</td>\n",
       "    </tr>\n",
       "    <tr>\n",
       "      <th>1</th>\n",
       "      <td>1</td>\n",
       "      <td>85</td>\n",
       "      <td>66</td>\n",
       "      <td>29</td>\n",
       "      <td>0</td>\n",
       "      <td>26.6</td>\n",
       "      <td>0.351</td>\n",
       "      <td>31</td>\n",
       "      <td>0</td>\n",
       "    </tr>\n",
       "    <tr>\n",
       "      <th>2</th>\n",
       "      <td>8</td>\n",
       "      <td>183</td>\n",
       "      <td>64</td>\n",
       "      <td>0</td>\n",
       "      <td>0</td>\n",
       "      <td>23.3</td>\n",
       "      <td>0.672</td>\n",
       "      <td>32</td>\n",
       "      <td>1</td>\n",
       "    </tr>\n",
       "    <tr>\n",
       "      <th>3</th>\n",
       "      <td>1</td>\n",
       "      <td>89</td>\n",
       "      <td>66</td>\n",
       "      <td>23</td>\n",
       "      <td>94</td>\n",
       "      <td>28.1</td>\n",
       "      <td>0.167</td>\n",
       "      <td>21</td>\n",
       "      <td>0</td>\n",
       "    </tr>\n",
       "    <tr>\n",
       "      <th>4</th>\n",
       "      <td>0</td>\n",
       "      <td>137</td>\n",
       "      <td>40</td>\n",
       "      <td>35</td>\n",
       "      <td>168</td>\n",
       "      <td>43.1</td>\n",
       "      <td>2.288</td>\n",
       "      <td>33</td>\n",
       "      <td>1</td>\n",
       "    </tr>\n",
       "    <tr>\n",
       "      <th>...</th>\n",
       "      <td>...</td>\n",
       "      <td>...</td>\n",
       "      <td>...</td>\n",
       "      <td>...</td>\n",
       "      <td>...</td>\n",
       "      <td>...</td>\n",
       "      <td>...</td>\n",
       "      <td>...</td>\n",
       "      <td>...</td>\n",
       "    </tr>\n",
       "    <tr>\n",
       "      <th>763</th>\n",
       "      <td>10</td>\n",
       "      <td>101</td>\n",
       "      <td>76</td>\n",
       "      <td>48</td>\n",
       "      <td>180</td>\n",
       "      <td>32.9</td>\n",
       "      <td>0.171</td>\n",
       "      <td>63</td>\n",
       "      <td>0</td>\n",
       "    </tr>\n",
       "    <tr>\n",
       "      <th>764</th>\n",
       "      <td>2</td>\n",
       "      <td>122</td>\n",
       "      <td>70</td>\n",
       "      <td>27</td>\n",
       "      <td>0</td>\n",
       "      <td>36.8</td>\n",
       "      <td>0.340</td>\n",
       "      <td>27</td>\n",
       "      <td>0</td>\n",
       "    </tr>\n",
       "    <tr>\n",
       "      <th>765</th>\n",
       "      <td>5</td>\n",
       "      <td>121</td>\n",
       "      <td>72</td>\n",
       "      <td>23</td>\n",
       "      <td>112</td>\n",
       "      <td>26.2</td>\n",
       "      <td>0.245</td>\n",
       "      <td>30</td>\n",
       "      <td>0</td>\n",
       "    </tr>\n",
       "    <tr>\n",
       "      <th>766</th>\n",
       "      <td>1</td>\n",
       "      <td>126</td>\n",
       "      <td>60</td>\n",
       "      <td>0</td>\n",
       "      <td>0</td>\n",
       "      <td>30.1</td>\n",
       "      <td>0.349</td>\n",
       "      <td>47</td>\n",
       "      <td>1</td>\n",
       "    </tr>\n",
       "    <tr>\n",
       "      <th>767</th>\n",
       "      <td>1</td>\n",
       "      <td>93</td>\n",
       "      <td>70</td>\n",
       "      <td>31</td>\n",
       "      <td>0</td>\n",
       "      <td>30.4</td>\n",
       "      <td>0.315</td>\n",
       "      <td>23</td>\n",
       "      <td>0</td>\n",
       "    </tr>\n",
       "  </tbody>\n",
       "</table>\n",
       "<p>768 rows × 9 columns</p>\n",
       "</div>"
      ],
      "text/plain": [
       "     Preg  Plas  Pres  skin  test  mass   pedi  age  class\n",
       "0       6   148    72    35     0  33.6  0.627   50      1\n",
       "1       1    85    66    29     0  26.6  0.351   31      0\n",
       "2       8   183    64     0     0  23.3  0.672   32      1\n",
       "3       1    89    66    23    94  28.1  0.167   21      0\n",
       "4       0   137    40    35   168  43.1  2.288   33      1\n",
       "..    ...   ...   ...   ...   ...   ...    ...  ...    ...\n",
       "763    10   101    76    48   180  32.9  0.171   63      0\n",
       "764     2   122    70    27     0  36.8  0.340   27      0\n",
       "765     5   121    72    23   112  26.2  0.245   30      0\n",
       "766     1   126    60     0     0  30.1  0.349   47      1\n",
       "767     1    93    70    31     0  30.4  0.315   23      0\n",
       "\n",
       "[768 rows x 9 columns]"
      ]
     },
     "execution_count": 2,
     "metadata": {},
     "output_type": "execute_result"
    }
   ],
   "source": [
    "df = pd.read_csv('pima-indians-diabetes+%281%29.csv')\n",
    "df"
   ]
  },
  {
   "cell_type": "code",
   "execution_count": 3,
   "metadata": {
    "id": "kCWx588ase24"
   },
   "outputs": [],
   "source": [
    "X = df.drop('class',axis=1)\n",
    "y=df['class']"
   ]
  },
  {
   "cell_type": "markdown",
   "metadata": {
    "id": "Gy1vfVDvuPBf"
   },
   "source": [
    "# Divide your data into three(3) parts: Training, Validation and Testing data."
   ]
  },
  {
   "cell_type": "code",
   "execution_count": 4,
   "metadata": {
    "id": "-12xq7m-qEJ6"
   },
   "outputs": [],
   "source": [
    "#save 20% of your dataset for final testing\n",
    "# use 80% for training and validation process\n",
    "\n",
    "# STEPS:\n",
    "  #1. first divide our dataset into 80:20 (i.e. training(80) and testing(20))\n",
    "  #2. next divide the 80 part to training and validation (i.e. whatever ratio you prefer)\n",
    "\n",
    "\n",
    "X_train1, X_test, y_train1,y_test = train_test_split(X,y, test_size=.20,random_state=1)\n",
    "\n",
    "\n",
    "X_train2, X_val, y_train2,y_val = train_test_split(X_train1,y_train1, test_size=.25,random_state=1)"
   ]
  },
  {
   "cell_type": "code",
   "execution_count": 5,
   "metadata": {
    "colab": {
     "base_uri": "https://localhost:8080/"
    },
    "id": "I8iNeft7ueiN",
    "outputId": "6118cfb3-be21-4848-f980-f1ea992aad6d"
   },
   "outputs": [
    {
     "name": "stdout",
     "output_type": "stream",
     "text": [
      "Total dataset 768\n",
      "Total test data saved for future use:  154\n",
      "Total training data:  460\n",
      "Total validation data:  154\n"
     ]
    }
   ],
   "source": [
    "print('Total dataset',len(X.values))\n",
    "print('Total test data saved for future use: ',len(X_test+y_test))\n",
    "print('Total training data: ',len(X_train2+y_train2))\n",
    "print('Total validation data: ',len(X_val+y_val))"
   ]
  },
  {
   "cell_type": "code",
   "execution_count": 6,
   "metadata": {
    "colab": {
     "base_uri": "https://localhost:8080/"
    },
    "id": "OuddWKw_Yrwd",
    "outputId": "46e8139f-17fb-4a8e-c80e-ea17c1e815b6"
   },
   "outputs": [
    {
     "data": {
      "text/plain": [
       "768"
      ]
     },
     "execution_count": 6,
     "metadata": {},
     "output_type": "execute_result"
    }
   ],
   "source": [
    "154+460+154"
   ]
  },
  {
   "cell_type": "code",
   "execution_count": 7,
   "metadata": {
    "id": "JvbIZ6UDDHlM"
   },
   "outputs": [],
   "source": [
    "from sklearn.neighbors import KNeighborsClassifier\n",
    "\n",
    "knn_clf = KNeighborsClassifier()\n"
   ]
  },
  {
   "cell_type": "code",
   "execution_count": 8,
   "metadata": {
    "colab": {
     "base_uri": "https://localhost:8080/"
    },
    "id": "Ak0uBB1YD8hC",
    "outputId": "7ac167a4-815f-4fc6-b941-e380fc526eaf"
   },
   "outputs": [
    {
     "data": {
      "text/plain": [
       "KNeighborsClassifier()"
      ]
     },
     "execution_count": 8,
     "metadata": {},
     "output_type": "execute_result"
    }
   ],
   "source": [
    "knn_clf.fit(X_train2,y_train2)"
   ]
  },
  {
   "cell_type": "code",
   "execution_count": 9,
   "metadata": {
    "colab": {
     "base_uri": "https://localhost:8080/"
    },
    "id": "umttCWaoD8hE",
    "outputId": "f0874a72-de2d-4dd8-9281-d9613dc24b6d",
    "scrolled": true
   },
   "outputs": [
    {
     "data": {
      "text/plain": [
       "{'algorithm': 'auto',\n",
       " 'leaf_size': 30,\n",
       " 'metric': 'minkowski',\n",
       " 'metric_params': None,\n",
       " 'n_jobs': None,\n",
       " 'n_neighbors': 5,\n",
       " 'p': 2,\n",
       " 'weights': 'uniform'}"
      ]
     },
     "execution_count": 9,
     "metadata": {},
     "output_type": "execute_result"
    }
   ],
   "source": [
    "KNeighborsClassifier().get_params()"
   ]
  },
  {
   "cell_type": "code",
   "execution_count": 10,
   "metadata": {
    "id": "Qv2epaH3D8hH"
   },
   "outputs": [],
   "source": [
    "param_grid = {'n_neighbors':list(range(1,9)),\n",
    "               'algorithm':('auto', 'ball_tree', 'kd_tree', 'brute')\n",
    "               \n",
    "                }"
   ]
  },
  {
   "cell_type": "code",
   "execution_count": 11,
   "metadata": {
    "id": "x1ehIboiv2w7"
   },
   "outputs": [],
   "source": [
    "from sklearn.model_selection import GridSearchCV\n",
    "\n",
    "gs=GridSearchCV(knn_clf,param_grid,cv=20)\n"
   ]
  },
  {
   "cell_type": "code",
   "execution_count": 12,
   "metadata": {
    "colab": {
     "base_uri": "https://localhost:8080/"
    },
    "id": "XT-ufg0OD8hJ",
    "outputId": "458e6e7b-f4c2-4911-8b38-d9c945aa66ca",
    "scrolled": true
   },
   "outputs": [
    {
     "data": {
      "text/plain": [
       "GridSearchCV(cv=20, estimator=KNeighborsClassifier(),\n",
       "             param_grid={'algorithm': ('auto', 'ball_tree', 'kd_tree', 'brute'),\n",
       "                         'n_neighbors': [1, 2, 3, 4, 5, 6, 7, 8]})"
      ]
     },
     "execution_count": 12,
     "metadata": {},
     "output_type": "execute_result"
    }
   ],
   "source": [
    "gs.fit(X_train2,y_train2)"
   ]
  },
  {
   "cell_type": "code",
   "execution_count": 13,
   "metadata": {},
   "outputs": [
    {
     "data": {
      "text/plain": [
       "KNeighborsClassifier(n_neighbors=8)"
      ]
     },
     "execution_count": 13,
     "metadata": {},
     "output_type": "execute_result"
    }
   ],
   "source": [
    "gs.best_estimator_"
   ]
  },
  {
   "cell_type": "code",
   "execution_count": 14,
   "metadata": {},
   "outputs": [
    {
     "data": {
      "text/plain": [
       "7"
      ]
     },
     "execution_count": 14,
     "metadata": {},
     "output_type": "execute_result"
    }
   ],
   "source": [
    "gs.best_index_"
   ]
  },
  {
   "cell_type": "code",
   "execution_count": 15,
   "metadata": {},
   "outputs": [
    {
     "data": {
      "text/plain": [
       "0.7260869565217392"
      ]
     },
     "execution_count": 15,
     "metadata": {},
     "output_type": "execute_result"
    }
   ],
   "source": [
    "gs.best_score_"
   ]
  },
  {
   "cell_type": "code",
   "execution_count": 16,
   "metadata": {
    "colab": {
     "base_uri": "https://localhost:8080/"
    },
    "id": "O0tFV4paD8hL",
    "outputId": "047d33ab-12e4-42a8-a862-30e6e23ef455"
   },
   "outputs": [
    {
     "data": {
      "text/plain": [
       "{'algorithm': 'auto', 'n_neighbors': 8}"
      ]
     },
     "execution_count": 16,
     "metadata": {},
     "output_type": "execute_result"
    }
   ],
   "source": [
    "gs.best_params_"
   ]
  },
  {
   "cell_type": "code",
   "execution_count": 17,
   "metadata": {
    "colab": {
     "base_uri": "https://localhost:8080/"
    },
    "id": "8s3tZueAD8hN",
    "outputId": "ef02f52b-881e-46a4-a69d-3b0f475e7e8b"
   },
   "outputs": [
    {
     "data": {
      "text/plain": [
       "[{'algorithm': 'auto', 'n_neighbors': 1},\n",
       " {'algorithm': 'auto', 'n_neighbors': 2},\n",
       " {'algorithm': 'auto', 'n_neighbors': 3},\n",
       " {'algorithm': 'auto', 'n_neighbors': 4},\n",
       " {'algorithm': 'auto', 'n_neighbors': 5},\n",
       " {'algorithm': 'auto', 'n_neighbors': 6},\n",
       " {'algorithm': 'auto', 'n_neighbors': 7},\n",
       " {'algorithm': 'auto', 'n_neighbors': 8},\n",
       " {'algorithm': 'ball_tree', 'n_neighbors': 1},\n",
       " {'algorithm': 'ball_tree', 'n_neighbors': 2},\n",
       " {'algorithm': 'ball_tree', 'n_neighbors': 3},\n",
       " {'algorithm': 'ball_tree', 'n_neighbors': 4},\n",
       " {'algorithm': 'ball_tree', 'n_neighbors': 5},\n",
       " {'algorithm': 'ball_tree', 'n_neighbors': 6},\n",
       " {'algorithm': 'ball_tree', 'n_neighbors': 7},\n",
       " {'algorithm': 'ball_tree', 'n_neighbors': 8},\n",
       " {'algorithm': 'kd_tree', 'n_neighbors': 1},\n",
       " {'algorithm': 'kd_tree', 'n_neighbors': 2},\n",
       " {'algorithm': 'kd_tree', 'n_neighbors': 3},\n",
       " {'algorithm': 'kd_tree', 'n_neighbors': 4},\n",
       " {'algorithm': 'kd_tree', 'n_neighbors': 5},\n",
       " {'algorithm': 'kd_tree', 'n_neighbors': 6},\n",
       " {'algorithm': 'kd_tree', 'n_neighbors': 7},\n",
       " {'algorithm': 'kd_tree', 'n_neighbors': 8},\n",
       " {'algorithm': 'brute', 'n_neighbors': 1},\n",
       " {'algorithm': 'brute', 'n_neighbors': 2},\n",
       " {'algorithm': 'brute', 'n_neighbors': 3},\n",
       " {'algorithm': 'brute', 'n_neighbors': 4},\n",
       " {'algorithm': 'brute', 'n_neighbors': 5},\n",
       " {'algorithm': 'brute', 'n_neighbors': 6},\n",
       " {'algorithm': 'brute', 'n_neighbors': 7},\n",
       " {'algorithm': 'brute', 'n_neighbors': 8}]"
      ]
     },
     "execution_count": 17,
     "metadata": {},
     "output_type": "execute_result"
    }
   ],
   "source": [
    "gs.cv_results_['params']"
   ]
  },
  {
   "cell_type": "code",
   "execution_count": 18,
   "metadata": {
    "colab": {
     "base_uri": "https://localhost:8080/"
    },
    "id": "opa0v3KsD8hP",
    "outputId": "f4733d29-7019-457e-b66b-b5e7ce2a6140",
    "scrolled": true
   },
   "outputs": [
    {
     "data": {
      "text/plain": [
       "array([0.67391304, 0.7       , 0.7       , 0.70652174, 0.7       ,\n",
       "       0.71086957, 0.71521739, 0.72608696, 0.67391304, 0.7       ,\n",
       "       0.7       , 0.70652174, 0.7       , 0.71086957, 0.71521739,\n",
       "       0.72608696, 0.67391304, 0.7       , 0.7       , 0.70652174,\n",
       "       0.7       , 0.71086957, 0.71521739, 0.72608696, 0.67391304,\n",
       "       0.7       , 0.7       , 0.70652174, 0.7       , 0.71086957,\n",
       "       0.71521739, 0.72608696])"
      ]
     },
     "execution_count": 18,
     "metadata": {},
     "output_type": "execute_result"
    }
   ],
   "source": [
    "gs.cv_results_['mean_test_score']"
   ]
  },
  {
   "cell_type": "code",
   "execution_count": 19,
   "metadata": {
    "scrolled": true
   },
   "outputs": [
    {
     "data": {
      "text/plain": [
       "{'mean_fit_time': array([0.00495034, 0.00389986, 0.00425053, 0.00305015, 0.00389968,\n",
       "        0.004599  , 0.00395061, 0.00450046, 0.00300052, 0.00315025,\n",
       "        0.00285062, 0.00425012, 0.00335013, 0.00320042, 0.00220016,\n",
       "        0.00195098, 0.00199968, 0.00215095, 0.00205024, 0.00224929,\n",
       "        0.00215012, 0.00180027, 0.0020502 , 0.0018501 , 0.00150064,\n",
       "        0.00195007, 0.00165001, 0.00169984, 0.0022006 , 0.00455222,\n",
       "        0.00214994, 0.00185078]),\n",
       " 'std_fit_time': array([0.00220243, 0.00062511, 0.00163903, 0.00086505, 0.0016999 ,\n",
       "        0.00159355, 0.00139616, 0.00092206, 0.00070701, 0.0007923 ,\n",
       "        0.00072634, 0.00147918, 0.00115204, 0.00092704, 0.0008722 ,\n",
       "        0.00058997, 0.00063279, 0.00047716, 0.00021762, 0.00053506,\n",
       "        0.00047663, 0.00040006, 0.00049807, 0.00035705, 0.00067144,\n",
       "        0.00073993, 0.00057151, 0.00055691, 0.00067859, 0.00233628,\n",
       "        0.00079217, 0.00057379]),\n",
       " 'mean_score_time': array([0.00559996, 0.00464997, 0.00459974, 0.00395033, 0.00475028,\n",
       "        0.00525039, 0.00484973, 0.00489963, 0.00489978, 0.00440017,\n",
       "        0.00439982, 0.00499994, 0.0039501 , 0.00404984, 0.00275004,\n",
       "        0.00224923, 0.00200022, 0.00214924, 0.00214982, 0.00220013,\n",
       "        0.00204986, 0.00224985, 0.00220019, 0.00215042, 0.00274999,\n",
       "        0.00265045, 0.00250022, 0.00285048, 0.00319958, 0.00584936,\n",
       "        0.00295061, 0.00269955]),\n",
       " 'std_score_time': array([0.00270918, 0.00072606, 0.00111418, 0.00153247, 0.00108954,\n",
       "        0.00147881, 0.00138815, 0.00088872, 0.00117885, 0.00131975,\n",
       "        0.00128027, 0.00270232, 0.0015327 , 0.00092062, 0.00113465,\n",
       "        0.00053669, 0.00044863, 0.00035654, 0.00047699, 0.00060006,\n",
       "        0.00038406, 0.00043317, 0.00050901, 0.00057186, 0.00194668,\n",
       "        0.00079236, 0.00097516, 0.00115215, 0.00147023, 0.00312465,\n",
       "        0.00066986, 0.00055611]),\n",
       " 'param_algorithm': masked_array(data=['auto', 'auto', 'auto', 'auto', 'auto', 'auto', 'auto',\n",
       "                    'auto', 'ball_tree', 'ball_tree', 'ball_tree',\n",
       "                    'ball_tree', 'ball_tree', 'ball_tree', 'ball_tree',\n",
       "                    'ball_tree', 'kd_tree', 'kd_tree', 'kd_tree',\n",
       "                    'kd_tree', 'kd_tree', 'kd_tree', 'kd_tree', 'kd_tree',\n",
       "                    'brute', 'brute', 'brute', 'brute', 'brute', 'brute',\n",
       "                    'brute', 'brute'],\n",
       "              mask=[False, False, False, False, False, False, False, False,\n",
       "                    False, False, False, False, False, False, False, False,\n",
       "                    False, False, False, False, False, False, False, False,\n",
       "                    False, False, False, False, False, False, False, False],\n",
       "        fill_value='?',\n",
       "             dtype=object),\n",
       " 'param_n_neighbors': masked_array(data=[1, 2, 3, 4, 5, 6, 7, 8, 1, 2, 3, 4, 5, 6, 7, 8, 1, 2,\n",
       "                    3, 4, 5, 6, 7, 8, 1, 2, 3, 4, 5, 6, 7, 8],\n",
       "              mask=[False, False, False, False, False, False, False, False,\n",
       "                    False, False, False, False, False, False, False, False,\n",
       "                    False, False, False, False, False, False, False, False,\n",
       "                    False, False, False, False, False, False, False, False],\n",
       "        fill_value='?',\n",
       "             dtype=object),\n",
       " 'params': [{'algorithm': 'auto', 'n_neighbors': 1},\n",
       "  {'algorithm': 'auto', 'n_neighbors': 2},\n",
       "  {'algorithm': 'auto', 'n_neighbors': 3},\n",
       "  {'algorithm': 'auto', 'n_neighbors': 4},\n",
       "  {'algorithm': 'auto', 'n_neighbors': 5},\n",
       "  {'algorithm': 'auto', 'n_neighbors': 6},\n",
       "  {'algorithm': 'auto', 'n_neighbors': 7},\n",
       "  {'algorithm': 'auto', 'n_neighbors': 8},\n",
       "  {'algorithm': 'ball_tree', 'n_neighbors': 1},\n",
       "  {'algorithm': 'ball_tree', 'n_neighbors': 2},\n",
       "  {'algorithm': 'ball_tree', 'n_neighbors': 3},\n",
       "  {'algorithm': 'ball_tree', 'n_neighbors': 4},\n",
       "  {'algorithm': 'ball_tree', 'n_neighbors': 5},\n",
       "  {'algorithm': 'ball_tree', 'n_neighbors': 6},\n",
       "  {'algorithm': 'ball_tree', 'n_neighbors': 7},\n",
       "  {'algorithm': 'ball_tree', 'n_neighbors': 8},\n",
       "  {'algorithm': 'kd_tree', 'n_neighbors': 1},\n",
       "  {'algorithm': 'kd_tree', 'n_neighbors': 2},\n",
       "  {'algorithm': 'kd_tree', 'n_neighbors': 3},\n",
       "  {'algorithm': 'kd_tree', 'n_neighbors': 4},\n",
       "  {'algorithm': 'kd_tree', 'n_neighbors': 5},\n",
       "  {'algorithm': 'kd_tree', 'n_neighbors': 6},\n",
       "  {'algorithm': 'kd_tree', 'n_neighbors': 7},\n",
       "  {'algorithm': 'kd_tree', 'n_neighbors': 8},\n",
       "  {'algorithm': 'brute', 'n_neighbors': 1},\n",
       "  {'algorithm': 'brute', 'n_neighbors': 2},\n",
       "  {'algorithm': 'brute', 'n_neighbors': 3},\n",
       "  {'algorithm': 'brute', 'n_neighbors': 4},\n",
       "  {'algorithm': 'brute', 'n_neighbors': 5},\n",
       "  {'algorithm': 'brute', 'n_neighbors': 6},\n",
       "  {'algorithm': 'brute', 'n_neighbors': 7},\n",
       "  {'algorithm': 'brute', 'n_neighbors': 8}],\n",
       " 'split0_test_score': array([0.73913043, 0.69565217, 0.7826087 , 0.82608696, 0.86956522,\n",
       "        0.86956522, 0.82608696, 0.86956522, 0.73913043, 0.69565217,\n",
       "        0.7826087 , 0.82608696, 0.86956522, 0.86956522, 0.82608696,\n",
       "        0.86956522, 0.73913043, 0.69565217, 0.7826087 , 0.82608696,\n",
       "        0.86956522, 0.86956522, 0.82608696, 0.86956522, 0.73913043,\n",
       "        0.69565217, 0.7826087 , 0.82608696, 0.86956522, 0.86956522,\n",
       "        0.82608696, 0.86956522]),\n",
       " 'split1_test_score': array([0.73913043, 0.7826087 , 0.7826087 , 0.73913043, 0.69565217,\n",
       "        0.73913043, 0.7826087 , 0.73913043, 0.73913043, 0.7826087 ,\n",
       "        0.7826087 , 0.73913043, 0.69565217, 0.73913043, 0.7826087 ,\n",
       "        0.73913043, 0.73913043, 0.7826087 , 0.7826087 , 0.73913043,\n",
       "        0.69565217, 0.73913043, 0.7826087 , 0.73913043, 0.73913043,\n",
       "        0.7826087 , 0.7826087 , 0.73913043, 0.69565217, 0.73913043,\n",
       "        0.7826087 , 0.73913043]),\n",
       " 'split2_test_score': array([0.65217391, 0.7826087 , 0.69565217, 0.73913043, 0.69565217,\n",
       "        0.73913043, 0.7826087 , 0.73913043, 0.65217391, 0.7826087 ,\n",
       "        0.69565217, 0.73913043, 0.69565217, 0.73913043, 0.7826087 ,\n",
       "        0.73913043, 0.65217391, 0.7826087 , 0.69565217, 0.73913043,\n",
       "        0.69565217, 0.73913043, 0.7826087 , 0.73913043, 0.65217391,\n",
       "        0.7826087 , 0.69565217, 0.73913043, 0.69565217, 0.73913043,\n",
       "        0.7826087 , 0.73913043]),\n",
       " 'split3_test_score': array([0.60869565, 0.60869565, 0.65217391, 0.69565217, 0.60869565,\n",
       "        0.65217391, 0.65217391, 0.69565217, 0.60869565, 0.60869565,\n",
       "        0.65217391, 0.69565217, 0.60869565, 0.65217391, 0.65217391,\n",
       "        0.69565217, 0.60869565, 0.60869565, 0.65217391, 0.69565217,\n",
       "        0.60869565, 0.65217391, 0.65217391, 0.69565217, 0.60869565,\n",
       "        0.60869565, 0.65217391, 0.69565217, 0.60869565, 0.65217391,\n",
       "        0.65217391, 0.69565217]),\n",
       " 'split4_test_score': array([0.73913043, 0.65217391, 0.65217391, 0.65217391, 0.56521739,\n",
       "        0.65217391, 0.65217391, 0.73913043, 0.73913043, 0.65217391,\n",
       "        0.65217391, 0.65217391, 0.56521739, 0.65217391, 0.65217391,\n",
       "        0.73913043, 0.73913043, 0.65217391, 0.65217391, 0.65217391,\n",
       "        0.56521739, 0.65217391, 0.65217391, 0.73913043, 0.73913043,\n",
       "        0.65217391, 0.65217391, 0.65217391, 0.56521739, 0.65217391,\n",
       "        0.65217391, 0.73913043]),\n",
       " 'split5_test_score': array([0.69565217, 0.69565217, 0.73913043, 0.73913043, 0.73913043,\n",
       "        0.69565217, 0.69565217, 0.65217391, 0.69565217, 0.69565217,\n",
       "        0.73913043, 0.73913043, 0.73913043, 0.69565217, 0.69565217,\n",
       "        0.65217391, 0.69565217, 0.69565217, 0.73913043, 0.73913043,\n",
       "        0.73913043, 0.69565217, 0.69565217, 0.65217391, 0.69565217,\n",
       "        0.69565217, 0.73913043, 0.73913043, 0.73913043, 0.69565217,\n",
       "        0.69565217, 0.65217391]),\n",
       " 'split6_test_score': array([0.7826087 , 0.65217391, 0.69565217, 0.69565217, 0.65217391,\n",
       "        0.69565217, 0.73913043, 0.73913043, 0.7826087 , 0.65217391,\n",
       "        0.69565217, 0.69565217, 0.65217391, 0.69565217, 0.73913043,\n",
       "        0.73913043, 0.7826087 , 0.65217391, 0.69565217, 0.69565217,\n",
       "        0.65217391, 0.69565217, 0.73913043, 0.73913043, 0.7826087 ,\n",
       "        0.65217391, 0.69565217, 0.69565217, 0.65217391, 0.69565217,\n",
       "        0.73913043, 0.73913043]),\n",
       " 'split7_test_score': array([0.65217391, 0.65217391, 0.65217391, 0.60869565, 0.56521739,\n",
       "        0.56521739, 0.56521739, 0.56521739, 0.65217391, 0.65217391,\n",
       "        0.65217391, 0.60869565, 0.56521739, 0.56521739, 0.56521739,\n",
       "        0.56521739, 0.65217391, 0.65217391, 0.65217391, 0.60869565,\n",
       "        0.56521739, 0.56521739, 0.56521739, 0.56521739, 0.65217391,\n",
       "        0.65217391, 0.65217391, 0.60869565, 0.56521739, 0.56521739,\n",
       "        0.56521739, 0.56521739]),\n",
       " 'split8_test_score': array([0.69565217, 0.73913043, 0.69565217, 0.73913043, 0.86956522,\n",
       "        0.7826087 , 0.7826087 , 0.7826087 , 0.69565217, 0.73913043,\n",
       "        0.69565217, 0.73913043, 0.86956522, 0.7826087 , 0.7826087 ,\n",
       "        0.7826087 , 0.69565217, 0.73913043, 0.69565217, 0.73913043,\n",
       "        0.86956522, 0.7826087 , 0.7826087 , 0.7826087 , 0.69565217,\n",
       "        0.73913043, 0.69565217, 0.73913043, 0.86956522, 0.7826087 ,\n",
       "        0.7826087 , 0.7826087 ]),\n",
       " 'split9_test_score': array([0.52173913, 0.60869565, 0.65217391, 0.60869565, 0.73913043,\n",
       "        0.60869565, 0.60869565, 0.60869565, 0.52173913, 0.60869565,\n",
       "        0.65217391, 0.60869565, 0.73913043, 0.60869565, 0.60869565,\n",
       "        0.60869565, 0.52173913, 0.60869565, 0.65217391, 0.60869565,\n",
       "        0.73913043, 0.60869565, 0.60869565, 0.60869565, 0.52173913,\n",
       "        0.60869565, 0.65217391, 0.60869565, 0.73913043, 0.60869565,\n",
       "        0.60869565, 0.60869565]),\n",
       " 'split10_test_score': array([0.73913043, 0.69565217, 0.73913043, 0.7826087 , 0.73913043,\n",
       "        0.82608696, 0.7826087 , 0.86956522, 0.73913043, 0.69565217,\n",
       "        0.73913043, 0.7826087 , 0.73913043, 0.82608696, 0.7826087 ,\n",
       "        0.86956522, 0.73913043, 0.69565217, 0.73913043, 0.7826087 ,\n",
       "        0.73913043, 0.82608696, 0.7826087 , 0.86956522, 0.73913043,\n",
       "        0.69565217, 0.73913043, 0.7826087 , 0.73913043, 0.82608696,\n",
       "        0.7826087 , 0.86956522]),\n",
       " 'split11_test_score': array([0.65217391, 0.60869565, 0.69565217, 0.65217391, 0.65217391,\n",
       "        0.69565217, 0.69565217, 0.69565217, 0.65217391, 0.60869565,\n",
       "        0.69565217, 0.65217391, 0.65217391, 0.69565217, 0.69565217,\n",
       "        0.69565217, 0.65217391, 0.60869565, 0.69565217, 0.65217391,\n",
       "        0.65217391, 0.69565217, 0.69565217, 0.69565217, 0.65217391,\n",
       "        0.60869565, 0.69565217, 0.65217391, 0.65217391, 0.69565217,\n",
       "        0.69565217, 0.69565217]),\n",
       " 'split12_test_score': array([0.65217391, 0.7826087 , 0.73913043, 0.65217391, 0.69565217,\n",
       "        0.65217391, 0.65217391, 0.65217391, 0.65217391, 0.7826087 ,\n",
       "        0.73913043, 0.65217391, 0.69565217, 0.65217391, 0.65217391,\n",
       "        0.65217391, 0.65217391, 0.7826087 , 0.73913043, 0.65217391,\n",
       "        0.69565217, 0.65217391, 0.65217391, 0.65217391, 0.65217391,\n",
       "        0.7826087 , 0.73913043, 0.65217391, 0.69565217, 0.65217391,\n",
       "        0.65217391, 0.65217391]),\n",
       " 'split13_test_score': array([0.7826087 , 0.69565217, 0.7826087 , 0.73913043, 0.65217391,\n",
       "        0.65217391, 0.65217391, 0.56521739, 0.7826087 , 0.69565217,\n",
       "        0.7826087 , 0.73913043, 0.65217391, 0.65217391, 0.65217391,\n",
       "        0.56521739, 0.7826087 , 0.69565217, 0.7826087 , 0.73913043,\n",
       "        0.65217391, 0.65217391, 0.65217391, 0.56521739, 0.7826087 ,\n",
       "        0.69565217, 0.7826087 , 0.73913043, 0.65217391, 0.65217391,\n",
       "        0.65217391, 0.56521739]),\n",
       " 'split14_test_score': array([0.69565217, 0.69565217, 0.65217391, 0.65217391, 0.73913043,\n",
       "        0.73913043, 0.7826087 , 0.7826087 , 0.69565217, 0.69565217,\n",
       "        0.65217391, 0.65217391, 0.73913043, 0.73913043, 0.7826087 ,\n",
       "        0.7826087 , 0.69565217, 0.69565217, 0.65217391, 0.65217391,\n",
       "        0.73913043, 0.73913043, 0.7826087 , 0.7826087 , 0.69565217,\n",
       "        0.69565217, 0.65217391, 0.65217391, 0.73913043, 0.73913043,\n",
       "        0.7826087 , 0.7826087 ]),\n",
       " 'split15_test_score': array([0.65217391, 0.86956522, 0.73913043, 0.86956522, 0.7826087 ,\n",
       "        0.82608696, 0.7826087 , 0.86956522, 0.65217391, 0.86956522,\n",
       "        0.73913043, 0.86956522, 0.7826087 , 0.82608696, 0.7826087 ,\n",
       "        0.86956522, 0.65217391, 0.86956522, 0.73913043, 0.86956522,\n",
       "        0.7826087 , 0.82608696, 0.7826087 , 0.86956522, 0.65217391,\n",
       "        0.86956522, 0.73913043, 0.86956522, 0.7826087 , 0.82608696,\n",
       "        0.7826087 , 0.86956522]),\n",
       " 'split16_test_score': array([0.65217391, 0.69565217, 0.56521739, 0.65217391, 0.52173913,\n",
       "        0.56521739, 0.60869565, 0.65217391, 0.65217391, 0.69565217,\n",
       "        0.56521739, 0.65217391, 0.52173913, 0.56521739, 0.60869565,\n",
       "        0.65217391, 0.65217391, 0.69565217, 0.56521739, 0.65217391,\n",
       "        0.52173913, 0.56521739, 0.60869565, 0.65217391, 0.65217391,\n",
       "        0.69565217, 0.56521739, 0.65217391, 0.52173913, 0.56521739,\n",
       "        0.60869565, 0.65217391]),\n",
       " 'split17_test_score': array([0.69565217, 0.69565217, 0.65217391, 0.69565217, 0.73913043,\n",
       "        0.65217391, 0.65217391, 0.65217391, 0.69565217, 0.69565217,\n",
       "        0.65217391, 0.69565217, 0.73913043, 0.65217391, 0.65217391,\n",
       "        0.65217391, 0.69565217, 0.69565217, 0.65217391, 0.69565217,\n",
       "        0.73913043, 0.65217391, 0.65217391, 0.65217391, 0.69565217,\n",
       "        0.69565217, 0.65217391, 0.69565217, 0.73913043, 0.65217391,\n",
       "        0.65217391, 0.65217391]),\n",
       " 'split18_test_score': array([0.43478261, 0.65217391, 0.60869565, 0.56521739, 0.60869565,\n",
       "        0.69565217, 0.65217391, 0.69565217, 0.43478261, 0.65217391,\n",
       "        0.60869565, 0.56521739, 0.60869565, 0.69565217, 0.65217391,\n",
       "        0.69565217, 0.43478261, 0.65217391, 0.60869565, 0.56521739,\n",
       "        0.60869565, 0.69565217, 0.65217391, 0.69565217, 0.43478261,\n",
       "        0.65217391, 0.60869565, 0.56521739, 0.60869565, 0.69565217,\n",
       "        0.65217391, 0.69565217]),\n",
       " 'split19_test_score': array([0.69565217, 0.73913043, 0.82608696, 0.82608696, 0.86956522,\n",
       "        0.91304348, 0.95652174, 0.95652174, 0.69565217, 0.73913043,\n",
       "        0.82608696, 0.82608696, 0.86956522, 0.91304348, 0.95652174,\n",
       "        0.95652174, 0.69565217, 0.73913043, 0.82608696, 0.82608696,\n",
       "        0.86956522, 0.91304348, 0.95652174, 0.95652174, 0.69565217,\n",
       "        0.73913043, 0.82608696, 0.82608696, 0.86956522, 0.91304348,\n",
       "        0.95652174, 0.95652174]),\n",
       " 'mean_test_score': array([0.67391304, 0.7       , 0.7       , 0.70652174, 0.7       ,\n",
       "        0.71086957, 0.71521739, 0.72608696, 0.67391304, 0.7       ,\n",
       "        0.7       , 0.70652174, 0.7       , 0.71086957, 0.71521739,\n",
       "        0.72608696, 0.67391304, 0.7       , 0.7       , 0.70652174,\n",
       "        0.7       , 0.71086957, 0.71521739, 0.72608696, 0.67391304,\n",
       "        0.7       , 0.7       , 0.70652174, 0.7       , 0.71086957,\n",
       "        0.71521739, 0.72608696]),\n",
       " 'std_test_score': array([0.08075729, 0.06579455, 0.06434195, 0.07762422, 0.09809143,\n",
       "        0.09251271, 0.09169172, 0.10298017, 0.08075729, 0.06579455,\n",
       "        0.06434195, 0.07762422, 0.09809143, 0.09251271, 0.09169172,\n",
       "        0.10298017, 0.08075729, 0.06579455, 0.06434195, 0.07762422,\n",
       "        0.09809143, 0.09251271, 0.09169172, 0.10298017, 0.08075729,\n",
       "        0.06579455, 0.06434195, 0.07762422, 0.09809143, 0.09251271,\n",
       "        0.09169172, 0.10298017]),\n",
       " 'rank_test_score': array([29, 17, 21, 13, 21,  9,  5,  1, 29, 17, 21, 13, 21,  9,  5,  1, 29,\n",
       "        17, 21, 13, 21,  9,  5,  1, 29, 17, 21, 13, 21,  9,  5,  1])}"
      ]
     },
     "execution_count": 19,
     "metadata": {},
     "output_type": "execute_result"
    }
   ],
   "source": [
    "gs.cv_results_"
   ]
  },
  {
   "cell_type": "code",
   "execution_count": 20,
   "metadata": {
    "colab": {
     "base_uri": "https://localhost:8080/"
    },
    "id": "f10rnJuPD8hR",
    "outputId": "fc4ae7f6-35f4-4922-e74c-d55e1cbc6540"
   },
   "outputs": [
    {
     "data": {
      "text/plain": [
       "KNeighborsClassifier(n_neighbors=8)"
      ]
     },
     "execution_count": 20,
     "metadata": {},
     "output_type": "execute_result"
    }
   ],
   "source": [
    "from sklearn.neighbors import KNeighborsClassifier\n",
    "\n",
    "knn_clf = KNeighborsClassifier(n_neighbors=8, algorithm='auto')\n",
    "\n",
    "knn_clf.fit(X_train2,y_train2)"
   ]
  },
  {
   "cell_type": "code",
   "execution_count": 21,
   "metadata": {
    "colab": {
     "base_uri": "https://localhost:8080/"
    },
    "id": "ZyREPimND8hT",
    "outputId": "2505efcb-8eb5-4d0d-e978-8016189ac485"
   },
   "outputs": [
    {
     "name": "stdout",
     "output_type": "stream",
     "text": [
      "Accuracy:  0.7467532467532467\n"
     ]
    }
   ],
   "source": [
    "from sklearn import metrics\n",
    "\n",
    "y_pred = knn_clf.predict(X_test)\n",
    "\n",
    "print('Accuracy: ', metrics.accuracy_score(y_test,y_pred))"
   ]
  },
  {
   "cell_type": "code",
   "execution_count": 22,
   "metadata": {
    "colab": {
     "base_uri": "https://localhost:8080/",
     "height": 416
    },
    "id": "0kmK-FBZ0Tvu",
    "outputId": "eb6b07a9-f64a-42d0-c0f1-a659b28d8b3d"
   },
   "outputs": [
    {
     "data": {
      "image/png": "[encoded data removed]",
      "text/plain": [
       "<Figure size 432x432 with 2 Axes>"
      ]
     },
     "metadata": {
      "needs_background": "light"
     },
     "output_type": "display_data"
    }
   ],
   "source": [
    "\n",
    "from sklearn.metrics import confusion_matrix\n",
    "import matplotlib.pyplot as plt\n",
    "\n",
    "\n",
    "conf_matrix = confusion_matrix(y_test,y_pred)\n",
    "\n",
    "plt.figure(figsize=(6, 6))\n",
    "import seaborn as sns\n",
    "sns.heatmap(conf_matrix, annot=True)\n",
    " \n",
    "# fig, ax = plot_confusion_matrix(conf_mat=conf_matrix, figsize=(6, 6))\n",
    "plt.xlabel('Predictions', fontsize=18)\n",
    "plt.ylabel('Actuals', fontsize=18)\n",
    "plt.title('Confusion Matrix', fontsize=18)\n",
    "plt.show()"
   ]
  },
  {
   "cell_type": "code",
   "execution_count": 23,
   "metadata": {
    "colab": {
     "base_uri": "https://localhost:8080/"
    },
    "id": "kOb1C-gX2xYR",
    "outputId": "3b3b5d6b-e20b-4da1-858f-0370d196e069"
   },
   "outputs": [
    {
     "name": "stdout",
     "output_type": "stream",
     "text": [
      "              precision    recall  f1-score   support\n",
      "\n",
      "           0       0.76      0.89      0.82        99\n",
      "           1       0.71      0.49      0.58        55\n",
      "\n",
      "    accuracy                           0.75       154\n",
      "   macro avg       0.73      0.69      0.70       154\n",
      "weighted avg       0.74      0.75      0.73       154\n",
      "\n"
     ]
    }
   ],
   "source": [
    "\n",
    "# Classification Report\n",
    "from sklearn.metrics import classification_report\n",
    "print(classification_report(y_test, y_pred))\n"
   ]
  },
  {
   "cell_type": "code",
   "execution_count": 24,
   "metadata": {
    "colab": {
     "base_uri": "https://localhost:8080/",
     "height": 295
    },
    "id": "fFG9lskc4Pt8",
    "outputId": "0e3af13e-5241-4a2b-e46a-7d148afe2f0b"
   },
   "outputs": [
    {
     "data": {
      "image/png": "[encoded data removed]",
      "text/plain": [
       "<Figure size 432x288 with 1 Axes>"
      ]
     },
     "metadata": {
      "needs_background": "light"
     },
     "output_type": "display_data"
    }
   ],
   "source": [
    "\n",
    "from sklearn.metrics import roc_curve\n",
    "from sklearn.metrics import auc\n",
    "import matplotlib.pyplot as plt\n",
    "\n",
    "y_scores = knn_clf.predict_proba(X_test)\n",
    "fpr, tpr, threshold = roc_curve(y_test, y_scores[:, 1])\n",
    "roc_auc = auc(fpr, tpr)\n",
    "\n",
    "\n",
    "plt.plot(fpr, tpr, 'b', label = 'AUC = %0.2f' % roc_auc)\n",
    "plt.legend(loc = 'lower right')\n",
    "plt.plot([0, 1], [0, 1],'r--')\n",
    "plt.xlim([0, 1])\n",
    "plt.ylim([0, 1])\n",
    "plt.ylabel('True Positive Rate')\n",
    "plt.xlabel('False Positive Rate')\n",
    "plt.title('ROC Curve of kNN')\n",
    "plt.show()"
   ]
  },
  {
   "cell_type": "markdown",
   "metadata": {},
   "source": [
    "# Another example of Gridsearch CV with Pipeline and ROC/AUC"
   ]
  },
  {
   "cell_type": "code",
   "execution_count": 25,
   "metadata": {},
   "outputs": [
    {
     "data": {
      "text/html": [
       "<div>\n",
       "<style scoped>\n",
       "    .dataframe tbody tr th:only-of-type {\n",
       "        vertical-align: middle;\n",
       "    }\n",
       "\n",
       "    .dataframe tbody tr th {\n",
       "        vertical-align: top;\n",
       "    }\n",
       "\n",
       "    .dataframe thead th {\n",
       "        text-align: right;\n",
       "    }\n",
       "</style>\n",
       "<table border=\"1\" class=\"dataframe\">\n",
       "  <thead>\n",
       "    <tr style=\"text-align: right;\">\n",
       "      <th></th>\n",
       "      <th>id</th>\n",
       "      <th>diagnosis</th>\n",
       "      <th>radius_mean</th>\n",
       "      <th>texture_mean</th>\n",
       "      <th>perimeter_mean</th>\n",
       "      <th>area_mean</th>\n",
       "      <th>smoothness_mean</th>\n",
       "      <th>compactness_mean</th>\n",
       "      <th>concavity_mean</th>\n",
       "      <th>points_mean</th>\n",
       "      <th>...</th>\n",
       "      <th>radius_worst</th>\n",
       "      <th>texture_worst</th>\n",
       "      <th>perimeter_worst</th>\n",
       "      <th>area_worst</th>\n",
       "      <th>smoothness_worst</th>\n",
       "      <th>compactness_worst</th>\n",
       "      <th>concavity_worst</th>\n",
       "      <th>points_worst</th>\n",
       "      <th>symmetry_worst</th>\n",
       "      <th>dimension_worst</th>\n",
       "    </tr>\n",
       "  </thead>\n",
       "  <tbody>\n",
       "    <tr>\n",
       "      <th>0</th>\n",
       "      <td>87139402</td>\n",
       "      <td>B</td>\n",
       "      <td>12.32</td>\n",
       "      <td>12.39</td>\n",
       "      <td>78.85</td>\n",
       "      <td>464.1</td>\n",
       "      <td>0.10280</td>\n",
       "      <td>0.06981</td>\n",
       "      <td>0.03987</td>\n",
       "      <td>0.03700</td>\n",
       "      <td>...</td>\n",
       "      <td>13.50</td>\n",
       "      <td>15.64</td>\n",
       "      <td>86.97</td>\n",
       "      <td>549.1</td>\n",
       "      <td>0.1385</td>\n",
       "      <td>0.1266</td>\n",
       "      <td>0.12420</td>\n",
       "      <td>0.09391</td>\n",
       "      <td>0.2827</td>\n",
       "      <td>0.06771</td>\n",
       "    </tr>\n",
       "    <tr>\n",
       "      <th>1</th>\n",
       "      <td>8910251</td>\n",
       "      <td>B</td>\n",
       "      <td>10.60</td>\n",
       "      <td>18.95</td>\n",
       "      <td>69.28</td>\n",
       "      <td>346.4</td>\n",
       "      <td>0.09688</td>\n",
       "      <td>0.11470</td>\n",
       "      <td>0.06387</td>\n",
       "      <td>0.02642</td>\n",
       "      <td>...</td>\n",
       "      <td>11.88</td>\n",
       "      <td>22.94</td>\n",
       "      <td>78.28</td>\n",
       "      <td>424.8</td>\n",
       "      <td>0.1213</td>\n",
       "      <td>0.2515</td>\n",
       "      <td>0.19160</td>\n",
       "      <td>0.07926</td>\n",
       "      <td>0.2940</td>\n",
       "      <td>0.07587</td>\n",
       "    </tr>\n",
       "    <tr>\n",
       "      <th>2</th>\n",
       "      <td>905520</td>\n",
       "      <td>B</td>\n",
       "      <td>11.04</td>\n",
       "      <td>16.83</td>\n",
       "      <td>70.92</td>\n",
       "      <td>373.2</td>\n",
       "      <td>0.10770</td>\n",
       "      <td>0.07804</td>\n",
       "      <td>0.03046</td>\n",
       "      <td>0.02480</td>\n",
       "      <td>...</td>\n",
       "      <td>12.41</td>\n",
       "      <td>26.44</td>\n",
       "      <td>79.93</td>\n",
       "      <td>471.4</td>\n",
       "      <td>0.1369</td>\n",
       "      <td>0.1482</td>\n",
       "      <td>0.10670</td>\n",
       "      <td>0.07431</td>\n",
       "      <td>0.2998</td>\n",
       "      <td>0.07881</td>\n",
       "    </tr>\n",
       "    <tr>\n",
       "      <th>3</th>\n",
       "      <td>868871</td>\n",
       "      <td>B</td>\n",
       "      <td>11.28</td>\n",
       "      <td>13.39</td>\n",
       "      <td>73.00</td>\n",
       "      <td>384.8</td>\n",
       "      <td>0.11640</td>\n",
       "      <td>0.11360</td>\n",
       "      <td>0.04635</td>\n",
       "      <td>0.04796</td>\n",
       "      <td>...</td>\n",
       "      <td>11.92</td>\n",
       "      <td>15.77</td>\n",
       "      <td>76.53</td>\n",
       "      <td>434.0</td>\n",
       "      <td>0.1367</td>\n",
       "      <td>0.1822</td>\n",
       "      <td>0.08669</td>\n",
       "      <td>0.08611</td>\n",
       "      <td>0.2102</td>\n",
       "      <td>0.06784</td>\n",
       "    </tr>\n",
       "    <tr>\n",
       "      <th>4</th>\n",
       "      <td>9012568</td>\n",
       "      <td>B</td>\n",
       "      <td>15.19</td>\n",
       "      <td>13.21</td>\n",
       "      <td>97.65</td>\n",
       "      <td>711.8</td>\n",
       "      <td>0.07963</td>\n",
       "      <td>0.06934</td>\n",
       "      <td>0.03393</td>\n",
       "      <td>0.02657</td>\n",
       "      <td>...</td>\n",
       "      <td>16.20</td>\n",
       "      <td>15.73</td>\n",
       "      <td>104.50</td>\n",
       "      <td>819.1</td>\n",
       "      <td>0.1126</td>\n",
       "      <td>0.1737</td>\n",
       "      <td>0.13620</td>\n",
       "      <td>0.08178</td>\n",
       "      <td>0.2487</td>\n",
       "      <td>0.06766</td>\n",
       "    </tr>\n",
       "    <tr>\n",
       "      <th>...</th>\n",
       "      <td>...</td>\n",
       "      <td>...</td>\n",
       "      <td>...</td>\n",
       "      <td>...</td>\n",
       "      <td>...</td>\n",
       "      <td>...</td>\n",
       "      <td>...</td>\n",
       "      <td>...</td>\n",
       "      <td>...</td>\n",
       "      <td>...</td>\n",
       "      <td>...</td>\n",
       "      <td>...</td>\n",
       "      <td>...</td>\n",
       "      <td>...</td>\n",
       "      <td>...</td>\n",
       "      <td>...</td>\n",
       "      <td>...</td>\n",
       "      <td>...</td>\n",
       "      <td>...</td>\n",
       "      <td>...</td>\n",
       "      <td>...</td>\n",
       "    </tr>\n",
       "    <tr>\n",
       "      <th>564</th>\n",
       "      <td>911320502</td>\n",
       "      <td>B</td>\n",
       "      <td>13.17</td>\n",
       "      <td>18.22</td>\n",
       "      <td>84.28</td>\n",
       "      <td>537.3</td>\n",
       "      <td>0.07466</td>\n",
       "      <td>0.05994</td>\n",
       "      <td>0.04859</td>\n",
       "      <td>0.02870</td>\n",
       "      <td>...</td>\n",
       "      <td>14.90</td>\n",
       "      <td>23.89</td>\n",
       "      <td>95.10</td>\n",
       "      <td>687.6</td>\n",
       "      <td>0.1282</td>\n",
       "      <td>0.1965</td>\n",
       "      <td>0.18760</td>\n",
       "      <td>0.10450</td>\n",
       "      <td>0.2235</td>\n",
       "      <td>0.06925</td>\n",
       "    </tr>\n",
       "    <tr>\n",
       "      <th>565</th>\n",
       "      <td>898677</td>\n",
       "      <td>B</td>\n",
       "      <td>10.26</td>\n",
       "      <td>14.71</td>\n",
       "      <td>66.20</td>\n",
       "      <td>321.6</td>\n",
       "      <td>0.09882</td>\n",
       "      <td>0.09159</td>\n",
       "      <td>0.03581</td>\n",
       "      <td>0.02037</td>\n",
       "      <td>...</td>\n",
       "      <td>10.88</td>\n",
       "      <td>19.48</td>\n",
       "      <td>70.89</td>\n",
       "      <td>357.1</td>\n",
       "      <td>0.1360</td>\n",
       "      <td>0.1636</td>\n",
       "      <td>0.07162</td>\n",
       "      <td>0.04074</td>\n",
       "      <td>0.2434</td>\n",
       "      <td>0.08488</td>\n",
       "    </tr>\n",
       "    <tr>\n",
       "      <th>566</th>\n",
       "      <td>873885</td>\n",
       "      <td>M</td>\n",
       "      <td>15.28</td>\n",
       "      <td>22.41</td>\n",
       "      <td>98.92</td>\n",
       "      <td>710.6</td>\n",
       "      <td>0.09057</td>\n",
       "      <td>0.10520</td>\n",
       "      <td>0.05375</td>\n",
       "      <td>0.03263</td>\n",
       "      <td>...</td>\n",
       "      <td>17.80</td>\n",
       "      <td>28.03</td>\n",
       "      <td>113.80</td>\n",
       "      <td>973.1</td>\n",
       "      <td>0.1301</td>\n",
       "      <td>0.3299</td>\n",
       "      <td>0.36300</td>\n",
       "      <td>0.12260</td>\n",
       "      <td>0.3175</td>\n",
       "      <td>0.09772</td>\n",
       "    </tr>\n",
       "    <tr>\n",
       "      <th>567</th>\n",
       "      <td>911201</td>\n",
       "      <td>B</td>\n",
       "      <td>14.53</td>\n",
       "      <td>13.98</td>\n",
       "      <td>93.86</td>\n",
       "      <td>644.2</td>\n",
       "      <td>0.10990</td>\n",
       "      <td>0.09242</td>\n",
       "      <td>0.06895</td>\n",
       "      <td>0.06495</td>\n",
       "      <td>...</td>\n",
       "      <td>15.80</td>\n",
       "      <td>16.93</td>\n",
       "      <td>103.10</td>\n",
       "      <td>749.9</td>\n",
       "      <td>0.1347</td>\n",
       "      <td>0.1478</td>\n",
       "      <td>0.13730</td>\n",
       "      <td>0.10690</td>\n",
       "      <td>0.2606</td>\n",
       "      <td>0.07810</td>\n",
       "    </tr>\n",
       "    <tr>\n",
       "      <th>568</th>\n",
       "      <td>9012795</td>\n",
       "      <td>M</td>\n",
       "      <td>21.37</td>\n",
       "      <td>15.10</td>\n",
       "      <td>141.30</td>\n",
       "      <td>1386.0</td>\n",
       "      <td>0.10010</td>\n",
       "      <td>0.15150</td>\n",
       "      <td>0.19320</td>\n",
       "      <td>0.12550</td>\n",
       "      <td>...</td>\n",
       "      <td>22.69</td>\n",
       "      <td>21.84</td>\n",
       "      <td>152.10</td>\n",
       "      <td>1535.0</td>\n",
       "      <td>0.1192</td>\n",
       "      <td>0.2840</td>\n",
       "      <td>0.40240</td>\n",
       "      <td>0.19660</td>\n",
       "      <td>0.2730</td>\n",
       "      <td>0.08666</td>\n",
       "    </tr>\n",
       "  </tbody>\n",
       "</table>\n",
       "<p>569 rows × 32 columns</p>\n",
       "</div>"
      ],
      "text/plain": [
       "            id diagnosis  radius_mean  texture_mean  perimeter_mean  \\\n",
       "0     87139402         B        12.32         12.39           78.85   \n",
       "1      8910251         B        10.60         18.95           69.28   \n",
       "2       905520         B        11.04         16.83           70.92   \n",
       "3       868871         B        11.28         13.39           73.00   \n",
       "4      9012568         B        15.19         13.21           97.65   \n",
       "..         ...       ...          ...           ...             ...   \n",
       "564  911320502         B        13.17         18.22           84.28   \n",
       "565     898677         B        10.26         14.71           66.20   \n",
       "566     873885         M        15.28         22.41           98.92   \n",
       "567     911201         B        14.53         13.98           93.86   \n",
       "568    9012795         M        21.37         15.10          141.30   \n",
       "\n",
       "     area_mean  smoothness_mean  compactness_mean  concavity_mean  \\\n",
       "0        464.1          0.10280           0.06981         0.03987   \n",
       "1        346.4          0.09688           0.11470         0.06387   \n",
       "2        373.2          0.10770           0.07804         0.03046   \n",
       "3        384.8          0.11640           0.11360         0.04635   \n",
       "4        711.8          0.07963           0.06934         0.03393   \n",
       "..         ...              ...               ...             ...   \n",
       "564      537.3          0.07466           0.05994         0.04859   \n",
       "565      321.6          0.09882           0.09159         0.03581   \n",
       "566      710.6          0.09057           0.10520         0.05375   \n",
       "567      644.2          0.10990           0.09242         0.06895   \n",
       "568     1386.0          0.10010           0.15150         0.19320   \n",
       "\n",
       "     points_mean  ...  radius_worst  texture_worst  perimeter_worst  \\\n",
       "0        0.03700  ...         13.50          15.64            86.97   \n",
       "1        0.02642  ...         11.88          22.94            78.28   \n",
       "2        0.02480  ...         12.41          26.44            79.93   \n",
       "3        0.04796  ...         11.92          15.77            76.53   \n",
       "4        0.02657  ...         16.20          15.73           104.50   \n",
       "..           ...  ...           ...            ...              ...   \n",
       "564      0.02870  ...         14.90          23.89            95.10   \n",
       "565      0.02037  ...         10.88          19.48            70.89   \n",
       "566      0.03263  ...         17.80          28.03           113.80   \n",
       "567      0.06495  ...         15.80          16.93           103.10   \n",
       "568      0.12550  ...         22.69          21.84           152.10   \n",
       "\n",
       "     area_worst  smoothness_worst  compactness_worst  concavity_worst  \\\n",
       "0         549.1            0.1385             0.1266          0.12420   \n",
       "1         424.8            0.1213             0.2515          0.19160   \n",
       "2         471.4            0.1369             0.1482          0.10670   \n",
       "3         434.0            0.1367             0.1822          0.08669   \n",
       "4         819.1            0.1126             0.1737          0.13620   \n",
       "..          ...               ...                ...              ...   \n",
       "564       687.6            0.1282             0.1965          0.18760   \n",
       "565       357.1            0.1360             0.1636          0.07162   \n",
       "566       973.1            0.1301             0.3299          0.36300   \n",
       "567       749.9            0.1347             0.1478          0.13730   \n",
       "568      1535.0            0.1192             0.2840          0.40240   \n",
       "\n",
       "     points_worst  symmetry_worst  dimension_worst  \n",
       "0         0.09391          0.2827          0.06771  \n",
       "1         0.07926          0.2940          0.07587  \n",
       "2         0.07431          0.2998          0.07881  \n",
       "3         0.08611          0.2102          0.06784  \n",
       "4         0.08178          0.2487          0.06766  \n",
       "..            ...             ...              ...  \n",
       "564       0.10450          0.2235          0.06925  \n",
       "565       0.04074          0.2434          0.08488  \n",
       "566       0.12260          0.3175          0.09772  \n",
       "567       0.10690          0.2606          0.07810  \n",
       "568       0.19660          0.2730          0.08666  \n",
       "\n",
       "[569 rows x 32 columns]"
      ]
     },
     "execution_count": 25,
     "metadata": {},
     "output_type": "execute_result"
    }
   ],
   "source": [
    "df_wisc=pd.read_csv('wisc_bc_data.csv')\n",
    "df_wisc\n"
   ]
  },
  {
   "cell_type": "code",
   "execution_count": 26,
   "metadata": {},
   "outputs": [],
   "source": [
    "X_wisc=df_wisc.iloc[:,2:].values\n",
    "y_wisc=df_wisc.iloc[:,1].values"
   ]
  },
  {
   "cell_type": "code",
   "execution_count": 27,
   "metadata": {},
   "outputs": [
    {
     "data": {
      "text/plain": [
       "array([[1.232e+01, 1.239e+01, 7.885e+01, ..., 9.391e-02, 2.827e-01,\n",
       "        6.771e-02],\n",
       "       [1.060e+01, 1.895e+01, 6.928e+01, ..., 7.926e-02, 2.940e-01,\n",
       "        7.587e-02],\n",
       "       [1.104e+01, 1.683e+01, 7.092e+01, ..., 7.431e-02, 2.998e-01,\n",
       "        7.881e-02],\n",
       "       ...,\n",
       "       [1.528e+01, 2.241e+01, 9.892e+01, ..., 1.226e-01, 3.175e-01,\n",
       "        9.772e-02],\n",
       "       [1.453e+01, 1.398e+01, 9.386e+01, ..., 1.069e-01, 2.606e-01,\n",
       "        7.810e-02],\n",
       "       [2.137e+01, 1.510e+01, 1.413e+02, ..., 1.966e-01, 2.730e-01,\n",
       "        8.666e-02]])"
      ]
     },
     "execution_count": 27,
     "metadata": {},
     "output_type": "execute_result"
    }
   ],
   "source": [
    "X_wisc"
   ]
  },
  {
   "cell_type": "code",
   "execution_count": 28,
   "metadata": {},
   "outputs": [
    {
     "data": {
      "text/plain": [
       "array(['B', 'B', 'B', 'B', 'B', 'B', 'B', 'M', 'B', 'B', 'M', 'B', 'B',\n",
       "       'B', 'M', 'B', 'B', 'B', 'M', 'B', 'B', 'B', 'B', 'B', 'B', 'M',\n",
       "       'B', 'M', 'B', 'B', 'B', 'M', 'M', 'B', 'B', 'B', 'M', 'B', 'M',\n",
       "       'M', 'M', 'M', 'M', 'B', 'B', 'M', 'B', 'M', 'B', 'B', 'M', 'B',\n",
       "       'B', 'B', 'M', 'B', 'B', 'B', 'M', 'M', 'M', 'M', 'M', 'M', 'M',\n",
       "       'B', 'B', 'B', 'B', 'B', 'M', 'B', 'B', 'B', 'B', 'B', 'M', 'B',\n",
       "       'B', 'M', 'B', 'B', 'B', 'B', 'B', 'B', 'B', 'B', 'M', 'B', 'B',\n",
       "       'B', 'M', 'B', 'M', 'M', 'B', 'B', 'B', 'M', 'B', 'B', 'B', 'M',\n",
       "       'B', 'B', 'B', 'B', 'B', 'B', 'B', 'B', 'M', 'M', 'B', 'M', 'M',\n",
       "       'M', 'M', 'B', 'B', 'M', 'B', 'M', 'B', 'B', 'M', 'M', 'M', 'M',\n",
       "       'M', 'B', 'B', 'M', 'B', 'M', 'B', 'B', 'M', 'B', 'M', 'M', 'M',\n",
       "       'M', 'M', 'B', 'M', 'B', 'B', 'B', 'B', 'B', 'B', 'B', 'B', 'B',\n",
       "       'B', 'M', 'B', 'B', 'B', 'B', 'B', 'B', 'M', 'M', 'B', 'M', 'B',\n",
       "       'B', 'M', 'M', 'M', 'B', 'M', 'B', 'M', 'B', 'M', 'B', 'B', 'M',\n",
       "       'B', 'M', 'B', 'B', 'M', 'M', 'M', 'B', 'M', 'B', 'B', 'M', 'M',\n",
       "       'M', 'M', 'B', 'B', 'B', 'M', 'B', 'B', 'B', 'B', 'M', 'B', 'M',\n",
       "       'B', 'M', 'B', 'M', 'M', 'B', 'B', 'B', 'B', 'B', 'M', 'M', 'B',\n",
       "       'B', 'M', 'B', 'B', 'B', 'B', 'M', 'M', 'B', 'B', 'B', 'B', 'M',\n",
       "       'B', 'B', 'M', 'B', 'B', 'B', 'M', 'B', 'B', 'M', 'M', 'B', 'B',\n",
       "       'B', 'B', 'B', 'B', 'M', 'B', 'M', 'B', 'B', 'B', 'B', 'B', 'B',\n",
       "       'B', 'B', 'M', 'B', 'M', 'M', 'B', 'B', 'B', 'M', 'B', 'M', 'B',\n",
       "       'B', 'M', 'M', 'B', 'M', 'B', 'B', 'M', 'B', 'B', 'B', 'M', 'B',\n",
       "       'M', 'M', 'M', 'B', 'B', 'B', 'M', 'B', 'M', 'M', 'M', 'M', 'B',\n",
       "       'M', 'M', 'B', 'B', 'M', 'M', 'M', 'M', 'B', 'B', 'B', 'M', 'M',\n",
       "       'B', 'B', 'M', 'B', 'M', 'M', 'B', 'B', 'B', 'M', 'M', 'B', 'B',\n",
       "       'M', 'B', 'M', 'B', 'M', 'B', 'B', 'B', 'B', 'M', 'B', 'B', 'B',\n",
       "       'M', 'B', 'B', 'M', 'M', 'B', 'M', 'B', 'B', 'B', 'M', 'B', 'B',\n",
       "       'M', 'B', 'B', 'M', 'B', 'B', 'B', 'M', 'B', 'M', 'M', 'B', 'B',\n",
       "       'B', 'B', 'M', 'B', 'B', 'M', 'B', 'B', 'B', 'B', 'B', 'B', 'B',\n",
       "       'B', 'B', 'B', 'B', 'B', 'M', 'M', 'B', 'B', 'M', 'B', 'M', 'B',\n",
       "       'M', 'B', 'B', 'M', 'B', 'B', 'B', 'M', 'M', 'B', 'B', 'B', 'M',\n",
       "       'M', 'B', 'M', 'B', 'B', 'M', 'B', 'B', 'B', 'B', 'B', 'B', 'M',\n",
       "       'B', 'B', 'M', 'M', 'B', 'M', 'B', 'B', 'B', 'M', 'B', 'B', 'B',\n",
       "       'M', 'M', 'M', 'B', 'M', 'B', 'B', 'M', 'B', 'B', 'B', 'B', 'B',\n",
       "       'M', 'B', 'M', 'B', 'B', 'B', 'B', 'M', 'B', 'M', 'M', 'B', 'B',\n",
       "       'B', 'B', 'M', 'B', 'B', 'M', 'M', 'B', 'B', 'M', 'B', 'B', 'M',\n",
       "       'B', 'B', 'B', 'B', 'B', 'M', 'B', 'M', 'B', 'M', 'B', 'M', 'B',\n",
       "       'M', 'M', 'B', 'B', 'M', 'B', 'M', 'B', 'M', 'M', 'M', 'M', 'B',\n",
       "       'B', 'B', 'B', 'M', 'M', 'M', 'M', 'M', 'M', 'B', 'B', 'B', 'B',\n",
       "       'B', 'M', 'M', 'B', 'M', 'M', 'B', 'M', 'M', 'M', 'M', 'M', 'B',\n",
       "       'B', 'B', 'M', 'B', 'B', 'B', 'B', 'M', 'B', 'B', 'B', 'B', 'B',\n",
       "       'M', 'M', 'B', 'B', 'B', 'B', 'B', 'M', 'B', 'B', 'M', 'M', 'B',\n",
       "       'B', 'B', 'B', 'B', 'B', 'B', 'M', 'B', 'B', 'M', 'B', 'B', 'B',\n",
       "       'B', 'M', 'B', 'B', 'B', 'B', 'B', 'M', 'B', 'M'], dtype=object)"
      ]
     },
     "execution_count": 28,
     "metadata": {},
     "output_type": "execute_result"
    }
   ],
   "source": [
    "y_wisc"
   ]
  },
  {
   "cell_type": "code",
   "execution_count": 29,
   "metadata": {},
   "outputs": [],
   "source": [
    "from sklearn.preprocessing import LabelEncoder"
   ]
  },
  {
   "cell_type": "code",
   "execution_count": 30,
   "metadata": {},
   "outputs": [],
   "source": [
    "le=LabelEncoder()\n",
    "y_wisc=le.fit_transform(y_wisc)"
   ]
  },
  {
   "cell_type": "code",
   "execution_count": 31,
   "metadata": {},
   "outputs": [
    {
     "data": {
      "text/plain": [
       "array([0, 0, 0, 0, 0, 0, 0, 1, 0, 0, 1, 0, 0, 0, 1, 0, 0, 0, 1, 0, 0, 0,\n",
       "       0, 0, 0, 1, 0, 1, 0, 0, 0, 1, 1, 0, 0, 0, 1, 0, 1, 1, 1, 1, 1, 0,\n",
       "       0, 1, 0, 1, 0, 0, 1, 0, 0, 0, 1, 0, 0, 0, 1, 1, 1, 1, 1, 1, 1, 0,\n",
       "       0, 0, 0, 0, 1, 0, 0, 0, 0, 0, 1, 0, 0, 1, 0, 0, 0, 0, 0, 0, 0, 0,\n",
       "       1, 0, 0, 0, 1, 0, 1, 1, 0, 0, 0, 1, 0, 0, 0, 1, 0, 0, 0, 0, 0, 0,\n",
       "       0, 0, 1, 1, 0, 1, 1, 1, 1, 0, 0, 1, 0, 1, 0, 0, 1, 1, 1, 1, 1, 0,\n",
       "       0, 1, 0, 1, 0, 0, 1, 0, 1, 1, 1, 1, 1, 0, 1, 0, 0, 0, 0, 0, 0, 0,\n",
       "       0, 0, 0, 1, 0, 0, 0, 0, 0, 0, 1, 1, 0, 1, 0, 0, 1, 1, 1, 0, 1, 0,\n",
       "       1, 0, 1, 0, 0, 1, 0, 1, 0, 0, 1, 1, 1, 0, 1, 0, 0, 1, 1, 1, 1, 0,\n",
       "       0, 0, 1, 0, 0, 0, 0, 1, 0, 1, 0, 1, 0, 1, 1, 0, 0, 0, 0, 0, 1, 1,\n",
       "       0, 0, 1, 0, 0, 0, 0, 1, 1, 0, 0, 0, 0, 1, 0, 0, 1, 0, 0, 0, 1, 0,\n",
       "       0, 1, 1, 0, 0, 0, 0, 0, 0, 1, 0, 1, 0, 0, 0, 0, 0, 0, 0, 0, 1, 0,\n",
       "       1, 1, 0, 0, 0, 1, 0, 1, 0, 0, 1, 1, 0, 1, 0, 0, 1, 0, 0, 0, 1, 0,\n",
       "       1, 1, 1, 0, 0, 0, 1, 0, 1, 1, 1, 1, 0, 1, 1, 0, 0, 1, 1, 1, 1, 0,\n",
       "       0, 0, 1, 1, 0, 0, 1, 0, 1, 1, 0, 0, 0, 1, 1, 0, 0, 1, 0, 1, 0, 1,\n",
       "       0, 0, 0, 0, 1, 0, 0, 0, 1, 0, 0, 1, 1, 0, 1, 0, 0, 0, 1, 0, 0, 1,\n",
       "       0, 0, 1, 0, 0, 0, 1, 0, 1, 1, 0, 0, 0, 0, 1, 0, 0, 1, 0, 0, 0, 0,\n",
       "       0, 0, 0, 0, 0, 0, 0, 0, 1, 1, 0, 0, 1, 0, 1, 0, 1, 0, 0, 1, 0, 0,\n",
       "       0, 1, 1, 0, 0, 0, 1, 1, 0, 1, 0, 0, 1, 0, 0, 0, 0, 0, 0, 1, 0, 0,\n",
       "       1, 1, 0, 1, 0, 0, 0, 1, 0, 0, 0, 1, 1, 1, 0, 1, 0, 0, 1, 0, 0, 0,\n",
       "       0, 0, 1, 0, 1, 0, 0, 0, 0, 1, 0, 1, 1, 0, 0, 0, 0, 1, 0, 0, 1, 1,\n",
       "       0, 0, 1, 0, 0, 1, 0, 0, 0, 0, 0, 1, 0, 1, 0, 1, 0, 1, 0, 1, 1, 0,\n",
       "       0, 1, 0, 1, 0, 1, 1, 1, 1, 0, 0, 0, 0, 1, 1, 1, 1, 1, 1, 0, 0, 0,\n",
       "       0, 0, 1, 1, 0, 1, 1, 0, 1, 1, 1, 1, 1, 0, 0, 0, 1, 0, 0, 0, 0, 1,\n",
       "       0, 0, 0, 0, 0, 1, 1, 0, 0, 0, 0, 0, 1, 0, 0, 1, 1, 0, 0, 0, 0, 0,\n",
       "       0, 0, 1, 0, 0, 1, 0, 0, 0, 0, 1, 0, 0, 0, 0, 0, 1, 0, 1])"
      ]
     },
     "execution_count": 31,
     "metadata": {},
     "output_type": "execute_result"
    }
   ],
   "source": [
    "y_wisc"
   ]
  },
  {
   "cell_type": "code",
   "execution_count": 32,
   "metadata": {},
   "outputs": [
    {
     "data": {
      "text/plain": [
       "array([1, 0])"
      ]
     },
     "execution_count": 32,
     "metadata": {},
     "output_type": "execute_result"
    }
   ],
   "source": [
    "le.transform(['M','B'])"
   ]
  },
  {
   "cell_type": "markdown",
   "metadata": {},
   "source": [
    "## 'M' transformed to 1 and 'B' transformed to 0"
   ]
  },
  {
   "cell_type": "code",
   "execution_count": 33,
   "metadata": {},
   "outputs": [],
   "source": [
    "#save 20% of your dataset for final testing\n",
    "# use 80% for training and validation process\n",
    "\n",
    "# STEPS:\n",
    "  #1. first divide our dataset into 80:20 (i.e. training(80) and testing(20))\n",
    "  #2. next divide the 80 part to training and validation (i.e. whatever ratio you prefer)\n",
    "\n",
    "\n",
    "X_wisc_train1, X_wisc_test, y_wisc_train1,y_wisc_test = train_test_split(X_wisc,y_wisc, test_size=.20,random_state=1)\n",
    "\n",
    "\n",
    "X_wisc_train2, X_wisc_val, y_wisc_train2,y_wisc_val = train_test_split(X_wisc_train1,y_wisc_train1, test_size=.25,random_state=1)"
   ]
  },
  {
   "cell_type": "code",
   "execution_count": 34,
   "metadata": {},
   "outputs": [
    {
     "name": "stdout",
     "output_type": "stream",
     "text": [
      "Total dataset 569\n",
      "Total test data saved for future use:  114\n",
      "Total training data:  341\n",
      "Total validation data:  114\n"
     ]
    }
   ],
   "source": [
    "print('Total dataset',len(X_wisc))\n",
    "print('Total test data saved for future use: ',len(X_wisc_test))\n",
    "print('Total training data: ',len(X_wisc_train2))\n",
    "print('Total validation data: ',len(X_wisc_val))"
   ]
  },
  {
   "cell_type": "markdown",
   "metadata": {},
   "source": [
    "### implement Pipeline"
   ]
  },
  {
   "cell_type": "code",
   "execution_count": 35,
   "metadata": {},
   "outputs": [],
   "source": [
    "from sklearn.preprocessing import StandardScaler\n",
    "from sklearn.decomposition import PCA\n",
    "#from sklearn.linear_model import LogisticRegression\n",
    "from sklearn.svm import SVC\n",
    "from sklearn.pipeline import Pipeline"
   ]
  },
  {
   "cell_type": "code",
   "execution_count": 36,
   "metadata": {},
   "outputs": [
    {
     "name": "stdout",
     "output_type": "stream",
     "text": [
      "Test accuracy:96.49%\n"
     ]
    }
   ],
   "source": [
    "pipe_svc=Pipeline([('scl',StandardScaler()),('pca',PCA()),('svc',SVC())])\n",
    "pipe_svc.fit(X_wisc_train2,y_wisc_train2)\n",
    "print('Test accuracy:{:.2f}%'.format(pipe_svc.score(X_wisc_test,y_wisc_test)*100))"
   ]
  },
  {
   "cell_type": "markdown",
   "metadata": {},
   "source": [
    "# Perofrm Hyperparameter tuning using Gridsearch"
   ]
  },
  {
   "cell_type": "code",
   "execution_count": 37,
   "metadata": {},
   "outputs": [
    {
     "data": {
      "text/plain": [
       "{'copy': True, 'with_mean': True, 'with_std': True}"
      ]
     },
     "execution_count": 37,
     "metadata": {},
     "output_type": "execute_result"
    }
   ],
   "source": [
    "StandardScaler().get_params()"
   ]
  },
  {
   "cell_type": "code",
   "execution_count": 38,
   "metadata": {
    "scrolled": false
   },
   "outputs": [
    {
     "data": {
      "text/plain": [
       "{'copy': True,\n",
       " 'iterated_power': 'auto',\n",
       " 'n_components': None,\n",
       " 'random_state': None,\n",
       " 'svd_solver': 'auto',\n",
       " 'tol': 0.0,\n",
       " 'whiten': False}"
      ]
     },
     "execution_count": 38,
     "metadata": {},
     "output_type": "execute_result"
    }
   ],
   "source": [
    "PCA().get_params()"
   ]
  },
  {
   "cell_type": "code",
   "execution_count": 39,
   "metadata": {
    "scrolled": true
   },
   "outputs": [
    {
     "data": {
      "text/plain": [
       "{'C': 1.0,\n",
       " 'break_ties': False,\n",
       " 'cache_size': 200,\n",
       " 'class_weight': None,\n",
       " 'coef0': 0.0,\n",
       " 'decision_function_shape': 'ovr',\n",
       " 'degree': 3,\n",
       " 'gamma': 'scale',\n",
       " 'kernel': 'rbf',\n",
       " 'max_iter': -1,\n",
       " 'probability': False,\n",
       " 'random_state': None,\n",
       " 'shrinking': True,\n",
       " 'tol': 0.001,\n",
       " 'verbose': False}"
      ]
     },
     "execution_count": 39,
     "metadata": {},
     "output_type": "execute_result"
    }
   ],
   "source": [
    "SVC().get_params()"
   ]
  },
  {
   "cell_type": "code",
   "execution_count": 40,
   "metadata": {},
   "outputs": [],
   "source": [
    "pipe_svc=Pipeline([('scl',StandardScaler()),('pca',PCA()),('svc',SVC())])"
   ]
  },
  {
   "cell_type": "code",
   "execution_count": 41,
   "metadata": {},
   "outputs": [],
   "source": [
    "param_grid2 = {'pca__n_components':[10,11,12,13,14,15,16,17,18],\n",
    "               'svc__C':[0.001,0.01,0.1,1,10,100],\n",
    "               'svc__gamma':[0.001,0.01,0.1,1,10,100],\n",
    "               'svc__kernel':['rbf','poly']\n",
    "               }"
   ]
  },
  {
   "cell_type": "code",
   "execution_count": 42,
   "metadata": {},
   "outputs": [],
   "source": [
    "gs_2=GridSearchCV(pipe_svc, param_grid=param_grid2, cv=5)\n"
   ]
  },
  {
   "cell_type": "code",
   "execution_count": 43,
   "metadata": {},
   "outputs": [
    {
     "data": {
      "text/plain": [
       "GridSearchCV(cv=5,\n",
       "             estimator=Pipeline(steps=[('scl', StandardScaler()),\n",
       "                                       ('pca', PCA()), ('svc', SVC())]),\n",
       "             param_grid={'pca__n_components': [10, 11, 12, 13, 14, 15, 16, 17,\n",
       "                                               18],\n",
       "                         'svc__C': [0.001, 0.01, 0.1, 1, 10, 100],\n",
       "                         'svc__gamma': [0.001, 0.01, 0.1, 1, 10, 100],\n",
       "                         'svc__kernel': ['rbf', 'poly']})"
      ]
     },
     "execution_count": 43,
     "metadata": {},
     "output_type": "execute_result"
    }
   ],
   "source": [
    "gs_2.fit(X_wisc_train2,y_wisc_train2)"
   ]
  },
  {
   "cell_type": "code",
   "execution_count": 44,
   "metadata": {},
   "outputs": [
    {
     "name": "stdout",
     "output_type": "stream",
     "text": [
      "Best cross validation accuracy: 98.24%\n",
      "Best parameter: {'pca__n_components': 11, 'svc__C': 10, 'svc__gamma': 0.01, 'svc__kernel': 'rbf'}\n",
      "validation score: 96.49%\n"
     ]
    }
   ],
   "source": [
    "print('Best cross validation accuracy: {:.2f}%'.format(gs_2.best_score_*100))\n",
    "print('Best parameter: {}'.format(gs_2.best_params_))\n",
    "print('validation score: {:.2f}%'.format(gs_2.score(X_wisc_val,y_wisc_val)*100))"
   ]
  },
  {
   "cell_type": "markdown",
   "metadata": {},
   "source": [
    "### implement best parameter to the pipeline again"
   ]
  },
  {
   "cell_type": "code",
   "execution_count": 45,
   "metadata": {},
   "outputs": [],
   "source": [
    "pipe_svc=Pipeline([('scl',StandardScaler()),('pca',PCA(n_components=11)),('svc',SVC(C=10, gamma=0.01,kernel='rbf',probability=True))])\n"
   ]
  },
  {
   "cell_type": "code",
   "execution_count": 46,
   "metadata": {},
   "outputs": [
    {
     "data": {
      "text/plain": [
       "Pipeline(steps=[('scl', StandardScaler()), ('pca', PCA(n_components=11)),\n",
       "                ('svc', SVC(C=10, gamma=0.01, probability=True))])"
      ]
     },
     "execution_count": 46,
     "metadata": {},
     "output_type": "execute_result"
    }
   ],
   "source": [
    "pipe_svc.fit(X_wisc_train2,y_wisc_train2)"
   ]
  },
  {
   "cell_type": "code",
   "execution_count": 47,
   "metadata": {},
   "outputs": [
    {
     "name": "stdout",
     "output_type": "stream",
     "text": [
      "Test score: 95.61%\n"
     ]
    }
   ],
   "source": [
    "print('Test score: {:.2f}%'.format(pipe_svc.score(X_wisc_test,y_wisc_test)*100))"
   ]
  },
  {
   "cell_type": "code",
   "execution_count": 48,
   "metadata": {},
   "outputs": [
    {
     "data": {
      "text/plain": [
       "array([1, 1, 1, 1, 0, 0, 0, 0, 0, 0, 0, 0, 0, 0, 0, 1, 0, 0, 0, 0, 0, 1,\n",
       "       1, 0, 0, 0, 0, 0, 0, 0, 0, 1, 0, 0, 0, 0, 1, 0, 1, 1, 0, 0, 0, 0,\n",
       "       0, 0, 0, 0, 0, 0, 1, 0, 0, 0, 0, 1, 1, 1, 0, 0, 0, 0, 1, 0, 0, 1,\n",
       "       0, 1, 0, 0, 0, 0, 1, 0, 1, 0, 1, 1, 1, 0, 0, 0, 0, 0, 1, 0, 1, 0,\n",
       "       1, 1, 1, 0, 1, 0, 0, 0, 1, 0, 0, 0, 0, 1, 1, 0, 0, 1, 0, 1, 0, 1,\n",
       "       0, 0, 0, 1])"
      ]
     },
     "execution_count": 48,
     "metadata": {},
     "output_type": "execute_result"
    }
   ],
   "source": [
    "y_wisc_pred=pipe_svc.predict(X_wisc_test)\n",
    "y_wisc_pred"
   ]
  },
  {
   "cell_type": "code",
   "execution_count": 49,
   "metadata": {},
   "outputs": [
    {
     "data": {
      "image/png": "[encoded data removed]",
      "text/plain": [
       "<Figure size 432x432 with 2 Axes>"
      ]
     },
     "metadata": {
      "needs_background": "light"
     },
     "output_type": "display_data"
    }
   ],
   "source": [
    "from sklearn.metrics import confusion_matrix\n",
    "import matplotlib.pyplot as plt\n",
    "\n",
    "\n",
    "conf_matrix_wisc = confusion_matrix(y_wisc_test,y_wisc_pred)\n",
    "\n",
    "plt.figure(figsize=(6, 6))\n",
    "import seaborn as sns\n",
    "sns.heatmap(conf_matrix_wisc, annot=True)\n",
    " \n",
    "# fig, ax = plot_confusion_matrix(conf_mat=conf_matrix, figsize=(6, 6))\n",
    "plt.xlabel('Predictions', fontsize=18)\n",
    "plt.ylabel('Actuals', fontsize=18)\n",
    "plt.title('Confusion Matrix', fontsize=18)\n",
    "plt.show()"
   ]
  },
  {
   "cell_type": "code",
   "execution_count": 50,
   "metadata": {},
   "outputs": [
    {
     "name": "stdout",
     "output_type": "stream",
     "text": [
      "              precision    recall  f1-score   support\n",
      "\n",
      "           0       0.96      0.97      0.97        77\n",
      "           1       0.94      0.92      0.93        37\n",
      "\n",
      "    accuracy                           0.96       114\n",
      "   macro avg       0.95      0.95      0.95       114\n",
      "weighted avg       0.96      0.96      0.96       114\n",
      "\n"
     ]
    }
   ],
   "source": [
    "# Classification Report\n",
    "from sklearn.metrics import classification_report\n",
    "print(classification_report(y_wisc_test, y_wisc_pred))"
   ]
  },
  {
   "cell_type": "markdown",
   "metadata": {},
   "source": [
    "# plot ROC/AUC"
   ]
  },
  {
   "cell_type": "code",
   "execution_count": 51,
   "metadata": {},
   "outputs": [
    {
     "data": {
      "image/png": "[encoded data removed]",
      "text/plain": [
       "<Figure size 432x288 with 1 Axes>"
      ]
     },
     "metadata": {
      "needs_background": "light"
     },
     "output_type": "display_data"
    }
   ],
   "source": [
    "from sklearn.metrics import roc_curve\n",
    "from sklearn.metrics import auc\n",
    "import matplotlib.pyplot as plt\n",
    "\n",
    "y_wisc_scores = pipe_svc.predict_proba(X_wisc_test)\n",
    "fpr, tpr, threshold = roc_curve(y_wisc_test, y_wisc_scores[:, 1])\n",
    "roc_auc = auc(fpr, tpr)\n",
    "\n",
    "\n",
    "plt.plot(fpr, tpr, 'b', label = 'AUC = %0.2f' % roc_auc)\n",
    "plt.legend(loc = 'lower right')\n",
    "plt.plot([0, 1], [0, 1],'r--')\n",
    "plt.xlim([0, 1])\n",
    "plt.ylim([0, 1])\n",
    "plt.ylabel('True Positive Rate')\n",
    "plt.xlabel('False Positive Rate')\n",
    "plt.title('ROC Curve of kNN')\n",
    "plt.show()"
   ]
  },
  {
   "cell_type": "code",
   "execution_count": null,
   "metadata": {},
   "outputs": [],
   "source": []
  },
  {
   "cell_type": "code",
   "execution_count": null,
   "metadata": {},
   "outputs": [],
   "source": []
  },
  {
   "cell_type": "code",
   "execution_count": null,
   "metadata": {},
   "outputs": [],
   "source": []
  },
  {
   "cell_type": "code",
   "execution_count": null,
   "metadata": {},
   "outputs": [],
   "source": []
  }
 ],
 "metadata": {
  "anaconda-cloud": {},
  "colab": {
   "provenance": []
  },
  "kernelspec": {
   "display_name": "Python 3 (ipykernel)",
   "language": "python",
   "name": "python3"
  },
  "language_info": {
   "codemirror_mode": {
    "name": "ipython",
    "version": 3
   },
   "file_extension": ".py",
   "mimetype": "text/x-python",
   "name": "python",
   "nbconvert_exporter": "python",
   "pygments_lexer": "ipython3",
   "version": "3.9.12"
  }
 },
 "nbformat": 4,
 "nbformat_minor": 1
}
